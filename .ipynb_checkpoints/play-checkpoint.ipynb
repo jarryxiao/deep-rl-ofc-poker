{
 "cells": [
  {
   "cell_type": "code",
   "execution_count": 1,
   "metadata": {
    "collapsed": false
   },
   "outputs": [],
   "source": [
    "import numpy as np\n",
    "\n",
    "from rlofc.ofc_board import OFCBoard\n",
    "from rlofc.ofc_environment import OFCEnvironment\n",
    "from rlofc.ofc_agent import OFCRandomAgent, OFCHumanAgent\n",
    "from rlofc.deck_generator import DeckGenerator"
   ]
  },
  {
   "cell_type": "code",
   "execution_count": 2,
   "metadata": {
    "collapsed": false
   },
   "outputs": [
    {
     "name": "stdout",
     "output_type": "stream",
     "text": [
      "Front:\n",
      "  [ T \u001b[31m♦\u001b[0m ] , [ 4 ♣ ] , [ 5 \u001b[31m♦\u001b[0m ]  \n",
      "Mid:\n",
      "  [ K \u001b[31m♦\u001b[0m ] , [ K ♣ ] , [ 6 \u001b[31m♦\u001b[0m ] , [ 2 ♣ ] , [ 9 ♠ ]  \n",
      "Back:\n",
      "  [ 6 \u001b[31m❤\u001b[0m ] , [ A ♠ ] , [ 3 ♣ ] , [ 6 ♠ ] , [ T \u001b[31m❤\u001b[0m ]  \n"
     ]
    }
   ],
   "source": [
    "agent = OFCRandomAgent()\n",
    "\n",
    "deck = DeckGenerator.new_deck()\n",
    "board = OFCBoard()\n",
    "\n",
    "for i in xrange(13):\n",
    "    draw = deck.pop()\n",
    "    street_id = agent.place_new_card(draw, board)\n",
    "    board.place_card_by_id(draw, street_id)\n",
    "\n",
    "board.pretty()\n",
    "assert board.is_complete()"
   ]
  },
  {
   "cell_type": "code",
   "execution_count": 3,
   "metadata": {
    "collapsed": false
   },
   "outputs": [
    {
     "name": "stdout",
     "output_type": "stream",
     "text": [
      "0\n",
      "Front:\n",
      "  [ K ♣ ] , [ 4 ♣ ] , [ Q ♣ ]  \n",
      "Mid:\n",
      "  [ 3 ♣ ] , [ 9 \u001b[31m❤\u001b[0m ] , [ Q \u001b[31m❤\u001b[0m ] , [ A ♣ ] , [ Q ♠ ]  \n",
      "Back:\n",
      "  [ 8 ♣ ] , [ J ♠ ] , [ 2 \u001b[31m❤\u001b[0m ] , [ 7 \u001b[31m♦\u001b[0m ] , [ 2 ♠ ]  \n",
      "Front:\n",
      "  [ 4 \u001b[31m♦\u001b[0m ] , [ J \u001b[31m❤\u001b[0m ] , [ 8 \u001b[31m❤\u001b[0m ]  \n",
      "Mid:\n",
      "  [ 3 \u001b[31m♦\u001b[0m ] , [ 6 ♠ ] , [ T ♣ ] , [ 8 ♠ ] , [ 9 ♣ ]  \n",
      "Back:\n",
      "  [ 3 \u001b[31m❤\u001b[0m ] , [ 9 \u001b[31m♦\u001b[0m ] , [ 5 ♠ ] , [ 9 ♠ ] , [ T \u001b[31m♦\u001b[0m ]  \n"
     ]
    }
   ],
   "source": [
    "lhs = OFCRandomAgent()\n",
    "rhs = OFCRandomAgent()\n",
    "\n",
    "ofc_game = OFCEnvironment(lhs, rhs)\n",
    "\n",
    "score, lhs_board, rhs_board = ofc_game.play_game()\n",
    "print score\n",
    "lhs_board.pretty()\n",
    "rhs_board.pretty()\n",
    "assert type(score) is int"
   ]
  },
  {
   "cell_type": "code",
   "execution_count": null,
   "metadata": {
    "collapsed": false
   },
   "outputs": [
    {
     "name": "stdout",
     "output_type": "stream",
     "text": [
      "['Th', '2h', '6h', '8c', 'Js']\n",
      "Front:\n",
      " \n",
      "Mid:\n",
      " \n",
      "Back:\n",
      " \n",
      "Current card: Th\n",
      "Available streets:\n",
      "0: front\n",
      "1: mid\n",
      "2: back\n",
      "Andrew, please enter the street (number) to play your card.\n",
      "2\n",
      "Front:\n",
      " \n",
      "Mid:\n",
      " \n",
      "Back:\n",
      "  [ T \u001b[31m❤\u001b[0m ]  \n",
      "Current card: 2h\n",
      "Available streets:\n",
      "0: front\n",
      "1: mid\n",
      "2: back\n",
      "Andrew, please enter the street (number) to play your card.\n",
      "3\n",
      "Please enter a valid street: [0, 1, 2]\n",
      "2\n",
      "Front:\n",
      " \n",
      "Mid:\n",
      " \n",
      "Back:\n",
      "  [ T \u001b[31m❤\u001b[0m ] , [ 2 \u001b[31m❤\u001b[0m ]  \n",
      "Current card: 6h\n",
      "Available streets:\n",
      "0: front\n",
      "1: mid\n",
      "2: back\n",
      "Andrew, please enter the street (number) to play your card.\n",
      "2\n",
      "Front:\n",
      " \n",
      "Mid:\n",
      " \n",
      "Back:\n",
      "  [ T \u001b[31m❤\u001b[0m ] , [ 2 \u001b[31m❤\u001b[0m ] , [ 6 \u001b[31m❤\u001b[0m ]  \n",
      "Current card: 8c\n",
      "Available streets:\n",
      "0: front\n",
      "1: mid\n",
      "2: back\n",
      "Andrew, please enter the street (number) to play your card.\n",
      "0\n",
      "Front:\n",
      "  [ 8 ♣ ]  \n",
      "Mid:\n",
      " \n",
      "Back:\n",
      "  [ T \u001b[31m❤\u001b[0m ] , [ 2 \u001b[31m❤\u001b[0m ] , [ 6 \u001b[31m❤\u001b[0m ]  \n",
      "Current card: Js\n",
      "Available streets:\n",
      "0: front\n",
      "1: mid\n",
      "2: back\n",
      "Andrew, please enter the street (number) to play your card.\n",
      "0\n",
      "['Jd', '3d', 'Qd', '8d', '4c']\n",
      "Front:\n",
      " \n",
      "Mid:\n",
      " \n",
      "Back:\n",
      " \n",
      "Current card: Jd\n",
      "Available streets:\n",
      "0: front\n",
      "1: mid\n",
      "2: back\n",
      "Jarry, please enter the street (number) to play your card.\n"
     ]
    }
   ],
   "source": [
    "lhs = OFCHumanAgent('Andrew')\n",
    "rhs = OFCHumanAgent('Jarry')\n",
    "\n",
    "ofc_game = OFCEnvironment(lhs, rhs)\n",
    "\n",
    "score, lhs_board, rhs_board = ofc_game.play_game_human_human()\n",
    "print 'Player 1 score:', score\n",
    "print 'Player 1 board:'\n",
    "lhs_board.pretty()\n",
    "print 'Player 2 board:'\n",
    "rhs_board.pretty()\n",
    "assert type(score) is int"
   ]
  },
  {
   "cell_type": "code",
   "execution_count": 22,
   "metadata": {
    "collapsed": false
   },
   "outputs": [
    {
     "data": {
      "text/plain": [
       "array([0.86383057, 0.49634707, 0.96308962])"
      ]
     },
     "execution_count": 22,
     "metadata": {},
     "output_type": "execute_result"
    }
   ],
   "source": [
    "np.random.uniform(0, 1, 3)"
   ]
  },
  {
   "cell_type": "code",
   "execution_count": 11,
   "metadata": {
    "collapsed": false
   },
   "outputs": [
    {
     "data": {
      "text/plain": [
       "(array([], dtype=int64),)"
      ]
     },
     "execution_count": 11,
     "metadata": {},
     "output_type": "execute_result"
    }
   ],
   "source": [
    "np.where([0, 1, 1] == 0)"
   ]
  },
  {
   "cell_type": "code",
   "execution_count": 12,
   "metadata": {
    "collapsed": false
   },
   "outputs": [
    {
     "data": {
      "text/plain": [
       "0"
      ]
     },
     "execution_count": 12,
     "metadata": {},
     "output_type": "execute_result"
    }
   ],
   "source": [
    "np.argmax([0, 0, 0])"
   ]
  },
  {
   "cell_type": "code",
   "execution_count": null,
   "metadata": {
    "collapsed": true
   },
   "outputs": [],
   "source": []
  }
 ],
 "metadata": {
  "kernelspec": {
   "display_name": "Python 2",
   "language": "python",
   "name": "python2"
  },
  "language_info": {
   "codemirror_mode": {
    "name": "ipython",
    "version": 2
   },
   "file_extension": ".py",
   "mimetype": "text/x-python",
   "name": "python",
   "nbconvert_exporter": "python",
   "pygments_lexer": "ipython2",
   "version": "2.7.14"
  }
 },
 "nbformat": 4,
 "nbformat_minor": 0
}
